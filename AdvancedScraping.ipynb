{
 "cells": [
  {
   "cell_type": "markdown",
   "id": "8cdadc3b",
   "metadata": {},
   "source": [
    "# Applied Web Scraping\n",
    "\n",
    "## This project will cover: \n",
    "1. Recap of basic Web Scraping princple\n",
    "2. Retrieve titles of every 2* rated book\n",
    "    2.1 Multi-paging"
   ]
  },
  {
   "cell_type": "code",
   "execution_count": 30,
   "id": "fb47a46b",
   "metadata": {},
   "outputs": [],
   "source": [
    "import requests\n",
    "import bs4"
   ]
  },
  {
   "cell_type": "markdown",
   "id": "e1cf60a5",
   "metadata": {},
   "source": [
    "# 1. Recap of basic principle"
   ]
  },
  {
   "cell_type": "code",
   "execution_count": 84,
   "id": "1a176e70",
   "metadata": {},
   "outputs": [
    {
     "data": {
      "text/plain": [
       "'Alan Partridge - Wikipedia'"
      ]
     },
     "execution_count": 84,
     "metadata": {},
     "output_type": "execute_result"
    }
   ],
   "source": [
    "res = requests.get('https://en.wikipedia.org/wiki/Alan_Partridge')\n",
    "\n",
    "contents = bs4.BeautifulSoup(res.text, 'lxml')\n",
    "title = contents.select('title')\n",
    "type(title)\n",
    "title[0].getText()"
   ]
  },
  {
   "cell_type": "markdown",
   "id": "03dbebfd",
   "metadata": {},
   "source": [
    "# 2. Every 2* Rated Book"
   ]
  },
  {
   "cell_type": "markdown",
   "id": "efabb300",
   "metadata": {},
   "source": [
    "### 2.1 Multi-paging\n",
    "\n",
    "Based on our example, https://books.toscrape.com/, data is spread over multiple pages therefore we'll need to find a way to engage with all of this data effectively.\n",
    "\n",
    "One way to do this would be to establish a base_url. \n",
    "\n",
    "* `base_url = 'https://books.toscrape.com/catalogue/page-{}.html'`\n",
    "* `base_url.format('2') --> https://books.toscrape.com/catalogue/page-2.html`"
   ]
  },
  {
   "cell_type": "markdown",
   "id": "a334ca26",
   "metadata": {},
   "source": [
    "#### 2.1.1 - Distillation\n",
    "\n",
    "This will involve parsing the base_url via soup to a bs4.element.ResultSet stage"
   ]
  },
  {
   "cell_type": "code",
   "execution_count": 85,
   "id": "ae4b4a25",
   "metadata": {},
   "outputs": [
    {
     "data": {
      "text/plain": [
       "<article class=\"product_pod\">\n",
       "<div class=\"image_container\">\n",
       "<a href=\"in-her-wake_980/index.html\"><img alt=\"In Her Wake\" class=\"thumbnail\" src=\"../media/cache/5d/72/5d72709c6a7a9584a4d1cf07648bfce1.jpg\"/></a>\n",
       "</div>\n",
       "<p class=\"star-rating One\">\n",
       "<i class=\"icon-star\"></i>\n",
       "<i class=\"icon-star\"></i>\n",
       "<i class=\"icon-star\"></i>\n",
       "<i class=\"icon-star\"></i>\n",
       "<i class=\"icon-star\"></i>\n",
       "</p>\n",
       "<h3><a href=\"in-her-wake_980/index.html\" title=\"In Her Wake\">In Her Wake</a></h3>\n",
       "<div class=\"product_price\">\n",
       "<p class=\"price_color\">Â£12.84</p>\n",
       "<p class=\"instock availability\">\n",
       "<i class=\"icon-ok\"></i>\n",
       "    \n",
       "        In stock\n",
       "    \n",
       "</p>\n",
       "<form>\n",
       "<button class=\"btn btn-primary btn-block\" data-loading-text=\"Adding...\" type=\"submit\">Add to basket</button>\n",
       "</form>\n",
       "</div>\n",
       "</article>"
      ]
     },
     "execution_count": 85,
     "metadata": {},
     "output_type": "execute_result"
    }
   ],
   "source": [
    "base_url = 'https://books.toscrape.com/catalogue/page-{}.html'\n",
    "\n",
    "# Pod Request & BSoup Distillation\n",
    "\n",
    "res = requests.get(base_url.format('2'))\n",
    "\n",
    "contents = bs4.BeautifulSoup(res.text, 'lxml')\n",
    "products = contents.select(\".product_pod\")\n",
    "products[0]"
   ]
  },
  {
   "cell_type": "markdown",
   "id": "b05c31fc",
   "metadata": {},
   "source": [
    "#### 2.1.2 - Dissemination\n",
    "\n",
    "This will involve converting/accessing the star-rating from each p-tag within the ResultSet. "
   ]
  },
  {
   "cell_type": "code",
   "execution_count": 88,
   "id": "764f99d7",
   "metadata": {},
   "outputs": [
    {
     "data": {
      "text/plain": [
       "<article class=\"product_pod\">\n",
       "<div class=\"image_container\">\n",
       "<a href=\"in-her-wake_980/index.html\"><img alt=\"In Her Wake\" class=\"thumbnail\" src=\"../media/cache/5d/72/5d72709c6a7a9584a4d1cf07648bfce1.jpg\"/></a>\n",
       "</div>\n",
       "<p class=\"star-rating One\">\n",
       "<i class=\"icon-star\"></i>\n",
       "<i class=\"icon-star\"></i>\n",
       "<i class=\"icon-star\"></i>\n",
       "<i class=\"icon-star\"></i>\n",
       "<i class=\"icon-star\"></i>\n",
       "</p>\n",
       "<h3><a href=\"in-her-wake_980/index.html\" title=\"In Her Wake\">In Her Wake</a></h3>\n",
       "<div class=\"product_price\">\n",
       "<p class=\"price_color\">Â£12.84</p>\n",
       "<p class=\"instock availability\">\n",
       "<i class=\"icon-ok\"></i>\n",
       "    \n",
       "        In stock\n",
       "    \n",
       "</p>\n",
       "<form>\n",
       "<button class=\"btn btn-primary btn-block\" data-loading-text=\"Adding...\" type=\"submit\">Add to basket</button>\n",
       "</form>\n",
       "</div>\n",
       "</article>"
      ]
     },
     "execution_count": 88,
     "metadata": {},
     "output_type": "execute_result"
    }
   ],
   "source": [
    "searchable = products[0]\n",
    "searchable"
   ]
  },
  {
   "cell_type": "code",
   "execution_count": 89,
   "id": "39fb5b06",
   "metadata": {},
   "outputs": [
    {
     "data": {
      "text/plain": [
       "bs4.element.Tag"
      ]
     },
     "execution_count": 89,
     "metadata": {},
     "output_type": "execute_result"
    }
   ],
   "source": [
    "type(searchable) # Meaning we can select on this and make dictionary calls"
   ]
  },
  {
   "cell_type": "markdown",
   "id": "56e1f255",
   "metadata": {},
   "source": [
    "#### 2.1.3 Returning the Rating"
   ]
  },
  {
   "cell_type": "code",
   "execution_count": 93,
   "id": "726260cc",
   "metadata": {},
   "outputs": [
    {
     "data": {
      "text/plain": [
       "False"
      ]
     },
     "execution_count": 93,
     "metadata": {},
     "output_type": "execute_result"
    }
   ],
   "source": [
    "searchable.select('.star-rating.One') == []"
   ]
  },
  {
   "cell_type": "markdown",
   "id": "0965b8b3",
   "metadata": {},
   "source": [
    "#### 2.1.4 Returning the Title"
   ]
  },
  {
   "cell_type": "code",
   "execution_count": 94,
   "id": "68a8bfd3",
   "metadata": {},
   "outputs": [
    {
     "data": {
      "text/plain": [
       "'In Her Wake'"
      ]
     },
     "execution_count": 94,
     "metadata": {},
     "output_type": "execute_result"
    }
   ],
   "source": [
    "searchable.select('a')[1].getText() # Title access approach"
   ]
  },
  {
   "cell_type": "markdown",
   "id": "07edc20a",
   "metadata": {},
   "source": [
    "#### 2.1.5 Combining the Two"
   ]
  },
  {
   "cell_type": "code",
   "execution_count": 96,
   "id": "03c195ee",
   "metadata": {},
   "outputs": [
    {
     "data": {
      "text/plain": [
       "['Starving Hearts (Triangular Trade Trilogy, #1)',\n",
       " 'Libertarianism for Beginners',\n",
       " \"It's Only the Himalayas\",\n",
       " 'How Music Works',\n",
       " 'Maude (1883-1993):She Grew Up with the country',\n",
       " \"You can't bury them all: Poems\",\n",
       " 'Reasons to Stay Alive',\n",
       " 'Without Borders (Wanderlove #1)',\n",
       " 'Soul Reader',\n",
       " 'Security',\n",
       " 'Saga, Volume 5 (Saga (Collected Editions) #5)',\n",
       " 'Reskilling America: Learning to Labor in the Twenty-First Century']"
      ]
     },
     "execution_count": 96,
     "metadata": {},
     "output_type": "execute_result"
    }
   ],
   "source": [
    "base_url = 'https://books.toscrape.com/catalogue/page-{}.html'\n",
    "\n",
    "two_star_titles = []\n",
    "\n",
    "# Capping at 5 pages \n",
    "\n",
    "for n in range(1, 5): \n",
    "        scrape_url = base_url.format(n)\n",
    "        res = requests.get(scrape_url)        \n",
    "        soup = bs4.BeautifulSoup(res.text, 'lxml')\n",
    "        books = soup.select(\".product_pod\")\n",
    "        \n",
    "        for book in books:\n",
    "            \n",
    "            if len(book.select('.star-rating.Two')) != 0: \n",
    "                book_title = book.select('a')[1]['title']\n",
    "                two_star_titles.append(book_title)\n",
    "two_star_titles"
   ]
  },
  {
   "cell_type": "code",
   "execution_count": null,
   "id": "fca9643f",
   "metadata": {},
   "outputs": [],
   "source": []
  }
 ],
 "metadata": {
  "kernelspec": {
   "display_name": "Python 3",
   "language": "python",
   "name": "python3"
  },
  "language_info": {
   "codemirror_mode": {
    "name": "ipython",
    "version": 3
   },
   "file_extension": ".py",
   "mimetype": "text/x-python",
   "name": "python",
   "nbconvert_exporter": "python",
   "pygments_lexer": "ipython3",
   "version": "3.9.4"
  }
 },
 "nbformat": 4,
 "nbformat_minor": 5
}
